{
  "nbformat": 4,
  "nbformat_minor": 0,
  "metadata": {
    "colab": {
      "provenance": [],
      "gpuType": "T4",
      "mount_file_id": "1juoYtzZF4cnEvfvm5he9ZgwSiSqfgsgg",
      "authorship_tag": "ABX9TyO35nlHxiEbzlJwxO3cm3sr",
      "include_colab_link": true
    },
    "kernelspec": {
      "name": "python3",
      "display_name": "Python 3"
    },
    "language_info": {
      "name": "python"
    },
    "accelerator": "GPU"
  },
  "cells": [
    {
      "cell_type": "markdown",
      "metadata": {
        "id": "view-in-github",
        "colab_type": "text"
      },
      "source": [
        "<a href=\"https://colab.research.google.com/github/AKASH4671/time-series-analysis/blob/main/Anomaly_Detection_in_Multivariate_Time_Series_using_LSTM.ipynb\" target=\"_parent\"><img src=\"https://colab.research.google.com/assets/colab-badge.svg\" alt=\"Open In Colab\"/></a>"
      ]
    },
    {
      "cell_type": "code",
      "execution_count": null,
      "metadata": {
        "id": "NkadN7J1drOs"
      },
      "outputs": [],
      "source": [
        "# import necessary libraries\n",
        "import numpy as np\n",
        "import pandas as pd\n",
        "import matplotlib as mpl\n",
        "import matplotlib.pyplot as plt\n",
        "from sklearn.preprocessing import MinMaxScaler, StandardScaler\n",
        "import tensorflow as tf\n",
        "from tensorflow import keras\n",
        "from tensorflow.keras.models import Sequential\n",
        "from tensorflow.keras.layers import Dense, LSTM, Dropout, RepeatVector, TimeDistributed"
      ]
    },
    {
      "cell_type": "code",
      "source": [
        "dataFrame = pd.read_excel('/content/drive/MyDrive/data.xlsx')"
      ],
      "metadata": {
        "colab": {
          "base_uri": "https://localhost:8080/"
        },
        "id": "CrXSW3S8k7fZ",
        "outputId": "782ffe3c-3f20-4b1c-ad03-db56831d3b8b"
      },
      "execution_count": null,
      "outputs": [
        {
          "output_type": "stream",
          "name": "stderr",
          "text": [
            "/usr/local/lib/python3.10/dist-packages/openpyxl/worksheet/_reader.py:312: UserWarning: Unknown extension is not supported and will be removed\n",
            "  warn(msg)\n"
          ]
        }
      ]
    },
    {
      "cell_type": "code",
      "source": [
        "dataFrame.head(5)"
      ],
      "metadata": {
        "colab": {
          "base_uri": "https://localhost:8080/",
          "height": 443
        },
        "id": "H1q7kTAXlo8q",
        "outputId": "443caab9-c1a6-4365-f16e-f7d4b419951b"
      },
      "execution_count": null,
      "outputs": [
        {
          "output_type": "execute_result",
          "data": {
            "text/plain": [
              "                 time Cyclone_Inlet_Gas_Temp Cyclone_Material_Temp  \\\n",
              "0 2017-01-01 00:00:00                 867.63                910.42   \n",
              "1 2017-01-01 00:05:00                 879.23                918.14   \n",
              "2 2017-01-01 00:10:00                 875.67                924.18   \n",
              "3 2017-01-01 00:15:00                 875.28                923.15   \n",
              "4 2017-01-01 00:20:00                 891.66                934.26   \n",
              "\n",
              "  Cyclone_Outlet_Gas_draft Cyclone_cone_draft Cyclone_Gas_Outlet_Temp  \\\n",
              "0                  -189.54            -186.04                  852.13   \n",
              "1                  -184.33             -182.1                  862.53   \n",
              "2                  -181.26            -166.47                  866.06   \n",
              "3                  -179.15            -174.83                  865.85   \n",
              "4                  -178.32            -173.72                  876.06   \n",
              "\n",
              "  Cyclone_Inlet_Draft  \n",
              "0              -145.9  \n",
              "1             -149.76  \n",
              "2             -145.01  \n",
              "3             -142.82  \n",
              "4             -143.39  "
            ],
            "text/html": [
              "\n",
              "  <div id=\"df-28645d33-b05d-41fa-a3d2-7ee7b96d4428\">\n",
              "    <div class=\"colab-df-container\">\n",
              "      <div>\n",
              "<style scoped>\n",
              "    .dataframe tbody tr th:only-of-type {\n",
              "        vertical-align: middle;\n",
              "    }\n",
              "\n",
              "    .dataframe tbody tr th {\n",
              "        vertical-align: top;\n",
              "    }\n",
              "\n",
              "    .dataframe thead th {\n",
              "        text-align: right;\n",
              "    }\n",
              "</style>\n",
              "<table border=\"1\" class=\"dataframe\">\n",
              "  <thead>\n",
              "    <tr style=\"text-align: right;\">\n",
              "      <th></th>\n",
              "      <th>time</th>\n",
              "      <th>Cyclone_Inlet_Gas_Temp</th>\n",
              "      <th>Cyclone_Material_Temp</th>\n",
              "      <th>Cyclone_Outlet_Gas_draft</th>\n",
              "      <th>Cyclone_cone_draft</th>\n",
              "      <th>Cyclone_Gas_Outlet_Temp</th>\n",
              "      <th>Cyclone_Inlet_Draft</th>\n",
              "    </tr>\n",
              "  </thead>\n",
              "  <tbody>\n",
              "    <tr>\n",
              "      <th>0</th>\n",
              "      <td>2017-01-01 00:00:00</td>\n",
              "      <td>867.63</td>\n",
              "      <td>910.42</td>\n",
              "      <td>-189.54</td>\n",
              "      <td>-186.04</td>\n",
              "      <td>852.13</td>\n",
              "      <td>-145.9</td>\n",
              "    </tr>\n",
              "    <tr>\n",
              "      <th>1</th>\n",
              "      <td>2017-01-01 00:05:00</td>\n",
              "      <td>879.23</td>\n",
              "      <td>918.14</td>\n",
              "      <td>-184.33</td>\n",
              "      <td>-182.1</td>\n",
              "      <td>862.53</td>\n",
              "      <td>-149.76</td>\n",
              "    </tr>\n",
              "    <tr>\n",
              "      <th>2</th>\n",
              "      <td>2017-01-01 00:10:00</td>\n",
              "      <td>875.67</td>\n",
              "      <td>924.18</td>\n",
              "      <td>-181.26</td>\n",
              "      <td>-166.47</td>\n",
              "      <td>866.06</td>\n",
              "      <td>-145.01</td>\n",
              "    </tr>\n",
              "    <tr>\n",
              "      <th>3</th>\n",
              "      <td>2017-01-01 00:15:00</td>\n",
              "      <td>875.28</td>\n",
              "      <td>923.15</td>\n",
              "      <td>-179.15</td>\n",
              "      <td>-174.83</td>\n",
              "      <td>865.85</td>\n",
              "      <td>-142.82</td>\n",
              "    </tr>\n",
              "    <tr>\n",
              "      <th>4</th>\n",
              "      <td>2017-01-01 00:20:00</td>\n",
              "      <td>891.66</td>\n",
              "      <td>934.26</td>\n",
              "      <td>-178.32</td>\n",
              "      <td>-173.72</td>\n",
              "      <td>876.06</td>\n",
              "      <td>-143.39</td>\n",
              "    </tr>\n",
              "  </tbody>\n",
              "</table>\n",
              "</div>\n",
              "      <button class=\"colab-df-convert\" onclick=\"convertToInteractive('df-28645d33-b05d-41fa-a3d2-7ee7b96d4428')\"\n",
              "              title=\"Convert this dataframe to an interactive table.\"\n",
              "              style=\"display:none;\">\n",
              "        \n",
              "  <svg xmlns=\"http://www.w3.org/2000/svg\" height=\"24px\"viewBox=\"0 0 24 24\"\n",
              "       width=\"24px\">\n",
              "    <path d=\"M0 0h24v24H0V0z\" fill=\"none\"/>\n",
              "    <path d=\"M18.56 5.44l.94 2.06.94-2.06 2.06-.94-2.06-.94-.94-2.06-.94 2.06-2.06.94zm-11 1L8.5 8.5l.94-2.06 2.06-.94-2.06-.94L8.5 2.5l-.94 2.06-2.06.94zm10 10l.94 2.06.94-2.06 2.06-.94-2.06-.94-.94-2.06-.94 2.06-2.06.94z\"/><path d=\"M17.41 7.96l-1.37-1.37c-.4-.4-.92-.59-1.43-.59-.52 0-1.04.2-1.43.59L10.3 9.45l-7.72 7.72c-.78.78-.78 2.05 0 2.83L4 21.41c.39.39.9.59 1.41.59.51 0 1.02-.2 1.41-.59l7.78-7.78 2.81-2.81c.8-.78.8-2.07 0-2.86zM5.41 20L4 18.59l7.72-7.72 1.47 1.35L5.41 20z\"/>\n",
              "  </svg>\n",
              "      </button>\n",
              "      \n",
              "  <style>\n",
              "    .colab-df-container {\n",
              "      display:flex;\n",
              "      flex-wrap:wrap;\n",
              "      gap: 12px;\n",
              "    }\n",
              "\n",
              "    .colab-df-convert {\n",
              "      background-color: #E8F0FE;\n",
              "      border: none;\n",
              "      border-radius: 50%;\n",
              "      cursor: pointer;\n",
              "      display: none;\n",
              "      fill: #1967D2;\n",
              "      height: 32px;\n",
              "      padding: 0 0 0 0;\n",
              "      width: 32px;\n",
              "    }\n",
              "\n",
              "    .colab-df-convert:hover {\n",
              "      background-color: #E2EBFA;\n",
              "      box-shadow: 0px 1px 2px rgba(60, 64, 67, 0.3), 0px 1px 3px 1px rgba(60, 64, 67, 0.15);\n",
              "      fill: #174EA6;\n",
              "    }\n",
              "\n",
              "    [theme=dark] .colab-df-convert {\n",
              "      background-color: #3B4455;\n",
              "      fill: #D2E3FC;\n",
              "    }\n",
              "\n",
              "    [theme=dark] .colab-df-convert:hover {\n",
              "      background-color: #434B5C;\n",
              "      box-shadow: 0px 1px 3px 1px rgba(0, 0, 0, 0.15);\n",
              "      filter: drop-shadow(0px 1px 2px rgba(0, 0, 0, 0.3));\n",
              "      fill: #FFFFFF;\n",
              "    }\n",
              "  </style>\n",
              "\n",
              "      <script>\n",
              "        const buttonEl =\n",
              "          document.querySelector('#df-28645d33-b05d-41fa-a3d2-7ee7b96d4428 button.colab-df-convert');\n",
              "        buttonEl.style.display =\n",
              "          google.colab.kernel.accessAllowed ? 'block' : 'none';\n",
              "\n",
              "        async function convertToInteractive(key) {\n",
              "          const element = document.querySelector('#df-28645d33-b05d-41fa-a3d2-7ee7b96d4428');\n",
              "          const dataTable =\n",
              "            await google.colab.kernel.invokeFunction('convertToInteractive',\n",
              "                                                     [key], {});\n",
              "          if (!dataTable) return;\n",
              "\n",
              "          const docLinkHtml = 'Like what you see? Visit the ' +\n",
              "            '<a target=\"_blank\" href=https://colab.research.google.com/notebooks/data_table.ipynb>data table notebook</a>'\n",
              "            + ' to learn more about interactive tables.';\n",
              "          element.innerHTML = '';\n",
              "          dataTable['output_type'] = 'display_data';\n",
              "          await google.colab.output.renderOutput(dataTable, element);\n",
              "          const docLink = document.createElement('div');\n",
              "          docLink.innerHTML = docLinkHtml;\n",
              "          element.appendChild(docLink);\n",
              "        }\n",
              "      </script>\n",
              "    </div>\n",
              "  </div>\n",
              "  "
            ]
          },
          "metadata": {},
          "execution_count": 4
        }
      ]
    },
    {
      "cell_type": "code",
      "source": [
        "dataFrame['time'] = pd.to_datetime(dataFrame['time'], infer_datetime_format = True)"
      ],
      "metadata": {
        "id": "VaZLdCHRluD9"
      },
      "execution_count": null,
      "outputs": []
    },
    {
      "cell_type": "code",
      "source": [
        "dataFrame.set_index('time', inplace=True)"
      ],
      "metadata": {
        "id": "4kWMNzX9reDm"
      },
      "execution_count": null,
      "outputs": []
    },
    {
      "cell_type": "code",
      "source": [
        "# converting obj data type to float\n",
        "object_columns = dataFrame.select_dtypes(include='object').columns\n",
        "dataFrame[object_columns] = dataFrame[object_columns].apply(pd.to_numeric, errors='coerce', downcast='integer')\n",
        "\n",
        "print(dataFrame.dtypes)"
      ],
      "metadata": {
        "colab": {
          "base_uri": "https://localhost:8080/"
        },
        "id": "ncRmrfOGplRR",
        "outputId": "d3e7357b-d462-470e-b490-1747f7957aca"
      },
      "execution_count": null,
      "outputs": [
        {
          "output_type": "stream",
          "name": "stdout",
          "text": [
            "Cyclone_Inlet_Gas_Temp      float64\n",
            "Cyclone_Material_Temp       float64\n",
            "Cyclone_Outlet_Gas_draft    float64\n",
            "Cyclone_cone_draft          float64\n",
            "Cyclone_Gas_Outlet_Temp     float64\n",
            "Cyclone_Inlet_Draft         float64\n",
            "dtype: object\n"
          ]
        }
      ]
    },
    {
      "cell_type": "code",
      "source": [
        "dataFrame[['Cyclone_Inlet_Gas_Temp', 'Cyclone_Material_Temp','Cyclone_Outlet_Gas_draft','Cyclone_cone_draft','Cyclone_Gas_Outlet_Temp','Cyclone_Inlet_Draft']].plot(subplots = True)"
      ],
      "metadata": {
        "colab": {
          "base_uri": "https://localhost:8080/",
          "height": 485
        },
        "id": "m3e5fR5foqte",
        "outputId": "3ac796ba-ea96-44fb-9c3c-00db8d850dbf"
      },
      "execution_count": null,
      "outputs": [
        {
          "output_type": "execute_result",
          "data": {
            "text/plain": [
              "array([<Axes: xlabel='time'>, <Axes: xlabel='time'>,\n",
              "       <Axes: xlabel='time'>, <Axes: xlabel='time'>,\n",
              "       <Axes: xlabel='time'>, <Axes: xlabel='time'>], dtype=object)"
            ]
          },
          "metadata": {},
          "execution_count": 26
        },
        {
          "output_type": "display_data",
          "data": {
            "text/plain": [
              "<Figure size 640x480 with 6 Axes>"
            ],
            "image/png": "[encoded data removed]"
          },
          "metadata": {}
        }
      ]
    },
    {
      "cell_type": "code",
      "source": [
        "# checking nan values\n",
        "dataFrame.isna().sum()"
      ],
      "metadata": {
        "colab": {
          "base_uri": "https://localhost:8080/"
        },
        "id": "d5QGMEs5n_vw",
        "outputId": "a318028a-51b8-43f3-ca73-c1a12d277523"
      },
      "execution_count": null,
      "outputs": [
        {
          "output_type": "execute_result",
          "data": {
            "text/plain": [
              "Cyclone_Inlet_Gas_Temp      1320\n",
              "Cyclone_Material_Temp       1591\n",
              "Cyclone_Outlet_Gas_draft    1321\n",
              "Cyclone_cone_draft          1320\n",
              "Cyclone_Gas_Outlet_Temp     1321\n",
              "Cyclone_Inlet_Draft         1322\n",
              "dtype: int64"
            ]
          },
          "metadata": {},
          "execution_count": 9
        }
      ]
    },
    {
      "cell_type": "code",
      "source": [
        "dataFrame.fillna(method = 'ffill')"
      ],
      "metadata": {
        "colab": {
          "base_uri": "https://localhost:8080/",
          "height": 866
        },
        "id": "0MupMIDWqrO5",
        "outputId": "5ceec77c-5fc8-4f3c-a22c-7a931ee4b69f"
      },
      "execution_count": null,
      "outputs": [
        {
          "output_type": "execute_result",
          "data": {
            "text/plain": [
              "                     Cyclone_Inlet_Gas_Temp  Cyclone_Material_Temp  \\\n",
              "time                                                                 \n",
              "2017-01-01 00:00:00                  867.63                 910.42   \n",
              "2017-01-01 00:05:00                  879.23                 918.14   \n",
              "2017-01-01 00:10:00                  875.67                 924.18   \n",
              "2017-01-01 00:15:00                  875.28                 923.15   \n",
              "2017-01-01 00:20:00                  891.66                 934.26   \n",
              "...                                     ...                    ...   \n",
              "2020-08-07 11:55:00                  899.42                 919.79   \n",
              "2020-08-07 12:00:00                  879.90                 895.02   \n",
              "2020-08-07 12:05:00                  887.20                 895.70   \n",
              "2020-08-07 12:10:00                  908.50                 916.33   \n",
              "2020-08-07 12:15:00                  880.86                 905.31   \n",
              "\n",
              "                     Cyclone_Outlet_Gas_draft  Cyclone_cone_draft  \\\n",
              "time                                                                \n",
              "2017-01-01 00:00:00                   -189.54             -186.04   \n",
              "2017-01-01 00:05:00                   -184.33             -182.10   \n",
              "2017-01-01 00:10:00                   -181.26             -166.47   \n",
              "2017-01-01 00:15:00                   -179.15             -174.83   \n",
              "2017-01-01 00:20:00                   -178.32             -173.72   \n",
              "...                                       ...                 ...   \n",
              "2020-08-07 11:55:00                   -224.07             -209.77   \n",
              "2020-08-07 12:00:00                   -228.04             -211.28   \n",
              "2020-08-07 12:05:00                   -230.11             -214.65   \n",
              "2020-08-07 12:10:00                   -231.51             -218.09   \n",
              "2020-08-07 12:15:00                   -235.02             -219.44   \n",
              "\n",
              "                     Cyclone_Gas_Outlet_Temp  Cyclone_Inlet_Draft  \n",
              "time                                                               \n",
              "2017-01-01 00:00:00                   852.13              -145.90  \n",
              "2017-01-01 00:05:00                   862.53              -149.76  \n",
              "2017-01-01 00:10:00                   866.06              -145.01  \n",
              "2017-01-01 00:15:00                   865.85              -142.82  \n",
              "2017-01-01 00:20:00                   876.06              -143.39  \n",
              "...                                      ...                  ...  \n",
              "2020-08-07 11:55:00                   901.01              -175.15  \n",
              "2020-08-07 12:00:00                   878.08              -176.94  \n",
              "2020-08-07 12:05:00                   885.32              -179.18  \n",
              "2020-08-07 12:10:00                   906.20              -181.96  \n",
              "2020-08-07 12:15:00                   882.10              -184.02  \n",
              "\n",
              "[377719 rows x 6 columns]"
            ],
            "text/html": [
              "\n",
              "  <div id=\"df-a4f88e13-433a-4018-bd99-938b096adcc3\">\n",
              "    <div class=\"colab-df-container\">\n",
              "      <div>\n",
              "<style scoped>\n",
              "    .dataframe tbody tr th:only-of-type {\n",
              "        vertical-align: middle;\n",
              "    }\n",
              "\n",
              "    .dataframe tbody tr th {\n",
              "        vertical-align: top;\n",
              "    }\n",
              "\n",
              "    .dataframe thead th {\n",
              "        text-align: right;\n",
              "    }\n",
              "</style>\n",
              "<table border=\"1\" class=\"dataframe\">\n",
              "  <thead>\n",
              "    <tr style=\"text-align: right;\">\n",
              "      <th></th>\n",
              "      <th>Cyclone_Inlet_Gas_Temp</th>\n",
              "      <th>Cyclone_Material_Temp</th>\n",
              "      <th>Cyclone_Outlet_Gas_draft</th>\n",
              "      <th>Cyclone_cone_draft</th>\n",
              "      <th>Cyclone_Gas_Outlet_Temp</th>\n",
              "      <th>Cyclone_Inlet_Draft</th>\n",
              "    </tr>\n",
              "    <tr>\n",
              "      <th>time</th>\n",
              "      <th></th>\n",
              "      <th></th>\n",
              "      <th></th>\n",
              "      <th></th>\n",
              "      <th></th>\n",
              "      <th></th>\n",
              "    </tr>\n",
              "  </thead>\n",
              "  <tbody>\n",
              "    <tr>\n",
              "      <th>2017-01-01 00:00:00</th>\n",
              "      <td>867.63</td>\n",
              "      <td>910.42</td>\n",
              "      <td>-189.54</td>\n",
              "      <td>-186.04</td>\n",
              "      <td>852.13</td>\n",
              "      <td>-145.90</td>\n",
              "    </tr>\n",
              "    <tr>\n",
              "      <th>2017-01-01 00:05:00</th>\n",
              "      <td>879.23</td>\n",
              "      <td>918.14</td>\n",
              "      <td>-184.33</td>\n",
              "      <td>-182.10</td>\n",
              "      <td>862.53</td>\n",
              "      <td>-149.76</td>\n",
              "    </tr>\n",
              "    <tr>\n",
              "      <th>2017-01-01 00:10:00</th>\n",
              "      <td>875.67</td>\n",
              "      <td>924.18</td>\n",
              "      <td>-181.26</td>\n",
              "      <td>-166.47</td>\n",
              "      <td>866.06</td>\n",
              "      <td>-145.01</td>\n",
              "    </tr>\n",
              "    <tr>\n",
              "      <th>2017-01-01 00:15:00</th>\n",
              "      <td>875.28</td>\n",
              "      <td>923.15</td>\n",
              "      <td>-179.15</td>\n",
              "      <td>-174.83</td>\n",
              "      <td>865.85</td>\n",
              "      <td>-142.82</td>\n",
              "    </tr>\n",
              "    <tr>\n",
              "      <th>2017-01-01 00:20:00</th>\n",
              "      <td>891.66</td>\n",
              "      <td>934.26</td>\n",
              "      <td>-178.32</td>\n",
              "      <td>-173.72</td>\n",
              "      <td>876.06</td>\n",
              "      <td>-143.39</td>\n",
              "    </tr>\n",
              "    <tr>\n",
              "      <th>...</th>\n",
              "      <td>...</td>\n",
              "      <td>...</td>\n",
              "      <td>...</td>\n",
              "      <td>...</td>\n",
              "      <td>...</td>\n",
              "      <td>...</td>\n",
              "    </tr>\n",
              "    <tr>\n",
              "      <th>2020-08-07 11:55:00</th>\n",
              "      <td>899.42</td>\n",
              "      <td>919.79</td>\n",
              "      <td>-224.07</td>\n",
              "      <td>-209.77</td>\n",
              "      <td>901.01</td>\n",
              "      <td>-175.15</td>\n",
              "    </tr>\n",
              "    <tr>\n",
              "      <th>2020-08-07 12:00:00</th>\n",
              "      <td>879.90</td>\n",
              "      <td>895.02</td>\n",
              "      <td>-228.04</td>\n",
              "      <td>-211.28</td>\n",
              "      <td>878.08</td>\n",
              "      <td>-176.94</td>\n",
              "    </tr>\n",
              "    <tr>\n",
              "      <th>2020-08-07 12:05:00</th>\n",
              "      <td>887.20</td>\n",
              "      <td>895.70</td>\n",
              "      <td>-230.11</td>\n",
              "      <td>-214.65</td>\n",
              "      <td>885.32</td>\n",
              "      <td>-179.18</td>\n",
              "    </tr>\n",
              "    <tr>\n",
              "      <th>2020-08-07 12:10:00</th>\n",
              "      <td>908.50</td>\n",
              "      <td>916.33</td>\n",
              "      <td>-231.51</td>\n",
              "      <td>-218.09</td>\n",
              "      <td>906.20</td>\n",
              "      <td>-181.96</td>\n",
              "    </tr>\n",
              "    <tr>\n",
              "      <th>2020-08-07 12:15:00</th>\n",
              "      <td>880.86</td>\n",
              "      <td>905.31</td>\n",
              "      <td>-235.02</td>\n",
              "      <td>-219.44</td>\n",
              "      <td>882.10</td>\n",
              "      <td>-184.02</td>\n",
              "    </tr>\n",
              "  </tbody>\n",
              "</table>\n",
              "<p>377719 rows × 6 columns</p>\n",
              "</div>\n",
              "      <button class=\"colab-df-convert\" onclick=\"convertToInteractive('df-a4f88e13-433a-4018-bd99-938b096adcc3')\"\n",
              "              title=\"Convert this dataframe to an interactive table.\"\n",
              "              style=\"display:none;\">\n",
              "        \n",
              "  <svg xmlns=\"http://www.w3.org/2000/svg\" height=\"24px\"viewBox=\"0 0 24 24\"\n",
              "       width=\"24px\">\n",
              "    <path d=\"M0 0h24v24H0V0z\" fill=\"none\"/>\n",
              "    <path d=\"M18.56 5.44l.94 2.06.94-2.06 2.06-.94-2.06-.94-.94-2.06-.94 2.06-2.06.94zm-11 1L8.5 8.5l.94-2.06 2.06-.94-2.06-.94L8.5 2.5l-.94 2.06-2.06.94zm10 10l.94 2.06.94-2.06 2.06-.94-2.06-.94-.94-2.06-.94 2.06-2.06.94z\"/><path d=\"M17.41 7.96l-1.37-1.37c-.4-.4-.92-.59-1.43-.59-.52 0-1.04.2-1.43.59L10.3 9.45l-7.72 7.72c-.78.78-.78 2.05 0 2.83L4 21.41c.39.39.9.59 1.41.59.51 0 1.02-.2 1.41-.59l7.78-7.78 2.81-2.81c.8-.78.8-2.07 0-2.86zM5.41 20L4 18.59l7.72-7.72 1.47 1.35L5.41 20z\"/>\n",
              "  </svg>\n",
              "      </button>\n",
              "      \n",
              "  <style>\n",
              "    .colab-df-container {\n",
              "      display:flex;\n",
              "      flex-wrap:wrap;\n",
              "      gap: 12px;\n",
              "    }\n",
              "\n",
              "    .colab-df-convert {\n",
              "      background-color: #E8F0FE;\n",
              "      border: none;\n",
              "      border-radius: 50%;\n",
              "      cursor: pointer;\n",
              "      display: none;\n",
              "      fill: #1967D2;\n",
              "      height: 32px;\n",
              "      padding: 0 0 0 0;\n",
              "      width: 32px;\n",
              "    }\n",
              "\n",
              "    .colab-df-convert:hover {\n",
              "      background-color: #E2EBFA;\n",
              "      box-shadow: 0px 1px 2px rgba(60, 64, 67, 0.3), 0px 1px 3px 1px rgba(60, 64, 67, 0.15);\n",
              "      fill: #174EA6;\n",
              "    }\n",
              "\n",
              "    [theme=dark] .colab-df-convert {\n",
              "      background-color: #3B4455;\n",
              "      fill: #D2E3FC;\n",
              "    }\n",
              "\n",
              "    [theme=dark] .colab-df-convert:hover {\n",
              "      background-color: #434B5C;\n",
              "      box-shadow: 0px 1px 3px 1px rgba(0, 0, 0, 0.15);\n",
              "      filter: drop-shadow(0px 1px 2px rgba(0, 0, 0, 0.3));\n",
              "      fill: #FFFFFF;\n",
              "    }\n",
              "  </style>\n",
              "\n",
              "      <script>\n",
              "        const buttonEl =\n",
              "          document.querySelector('#df-a4f88e13-433a-4018-bd99-938b096adcc3 button.colab-df-convert');\n",
              "        buttonEl.style.display =\n",
              "          google.colab.kernel.accessAllowed ? 'block' : 'none';\n",
              "\n",
              "        async function convertToInteractive(key) {\n",
              "          const element = document.querySelector('#df-a4f88e13-433a-4018-bd99-938b096adcc3');\n",
              "          const dataTable =\n",
              "            await google.colab.kernel.invokeFunction('convertToInteractive',\n",
              "                                                     [key], {});\n",
              "          if (!dataTable) return;\n",
              "\n",
              "          const docLinkHtml = 'Like what you see? Visit the ' +\n",
              "            '<a target=\"_blank\" href=https://colab.research.google.com/notebooks/data_table.ipynb>data table notebook</a>'\n",
              "            + ' to learn more about interactive tables.';\n",
              "          element.innerHTML = '';\n",
              "          dataTable['output_type'] = 'display_data';\n",
              "          await google.colab.output.renderOutput(dataTable, element);\n",
              "          const docLink = document.createElement('div');\n",
              "          docLink.innerHTML = docLinkHtml;\n",
              "          element.appendChild(docLink);\n",
              "        }\n",
              "      </script>\n",
              "    </div>\n",
              "  </div>\n",
              "  "
            ]
          },
          "metadata": {},
          "execution_count": 10
        }
      ]
    },
    {
      "cell_type": "code",
      "source": [
        "df = dataFrame.resample('W').mean()"
      ],
      "metadata": {
        "id": "dzd1izB6qz_f"
      },
      "execution_count": null,
      "outputs": []
    },
    {
      "cell_type": "code",
      "source": [
        "df.describe()"
      ],
      "metadata": {
        "colab": {
          "base_uri": "https://localhost:8080/",
          "height": 364
        },
        "id": "T22UB8Gc1_9X",
        "outputId": "860f787a-5c0a-4593-d075-e03185592b0f"
      },
      "execution_count": null,
      "outputs": [
        {
          "output_type": "execute_result",
          "data": {
            "text/plain": [
              "       Cyclone_Inlet_Gas_Temp  Cyclone_Material_Temp  \\\n",
              "count              189.000000             189.000000   \n",
              "mean               727.305013             750.885125   \n",
              "std                297.126597             303.969156   \n",
              "min                 17.244588               5.267510   \n",
              "25%                726.904945             766.334712   \n",
              "50%                883.360526             909.741815   \n",
              "75%                892.066715             924.274203   \n",
              "max                916.505451             964.243638   \n",
              "\n",
              "       Cyclone_Outlet_Gas_draft  Cyclone_cone_draft  Cyclone_Gas_Outlet_Temp  \\\n",
              "count                189.000000          189.000000               189.000000   \n",
              "mean                -177.626096         -164.386331               715.742675   \n",
              "std                   85.078891           76.861112               293.697478   \n",
              "min                 -282.347401         -266.940575                17.125208   \n",
              "25%                 -235.373090         -215.935937               713.875432   \n",
              "50%                 -206.565263         -193.416446               860.714559   \n",
              "75%                 -160.378924         -150.737852               889.260536   \n",
              "max                    4.993393            1.525198               935.195278   \n",
              "\n",
              "       Cyclone_Inlet_Draft  \n",
              "count           189.000000  \n",
              "mean           -141.144085  \n",
              "std              66.364900  \n",
              "min            -221.725947  \n",
              "25%            -185.288294  \n",
              "50%            -163.503547  \n",
              "75%            -125.636225  \n",
              "max               2.734271  "
            ],
            "text/html": [
              "\n",
              "  <div id=\"df-da2c71d8-9d14-4487-99ae-f8889a4fcae9\">\n",
              "    <div class=\"colab-df-container\">\n",
              "      <div>\n",
              "<style scoped>\n",
              "    .dataframe tbody tr th:only-of-type {\n",
              "        vertical-align: middle;\n",
              "    }\n",
              "\n",
              "    .dataframe tbody tr th {\n",
              "        vertical-align: top;\n",
              "    }\n",
              "\n",
              "    .dataframe thead th {\n",
              "        text-align: right;\n",
              "    }\n",
              "</style>\n",
              "<table border=\"1\" class=\"dataframe\">\n",
              "  <thead>\n",
              "    <tr style=\"text-align: right;\">\n",
              "      <th></th>\n",
              "      <th>Cyclone_Inlet_Gas_Temp</th>\n",
              "      <th>Cyclone_Material_Temp</th>\n",
              "      <th>Cyclone_Outlet_Gas_draft</th>\n",
              "      <th>Cyclone_cone_draft</th>\n",
              "      <th>Cyclone_Gas_Outlet_Temp</th>\n",
              "      <th>Cyclone_Inlet_Draft</th>\n",
              "    </tr>\n",
              "  </thead>\n",
              "  <tbody>\n",
              "    <tr>\n",
              "      <th>count</th>\n",
              "      <td>189.000000</td>\n",
              "      <td>189.000000</td>\n",
              "      <td>189.000000</td>\n",
              "      <td>189.000000</td>\n",
              "      <td>189.000000</td>\n",
              "      <td>189.000000</td>\n",
              "    </tr>\n",
              "    <tr>\n",
              "      <th>mean</th>\n",
              "      <td>727.305013</td>\n",
              "      <td>750.885125</td>\n",
              "      <td>-177.626096</td>\n",
              "      <td>-164.386331</td>\n",
              "      <td>715.742675</td>\n",
              "      <td>-141.144085</td>\n",
              "    </tr>\n",
              "    <tr>\n",
              "      <th>std</th>\n",
              "      <td>297.126597</td>\n",
              "      <td>303.969156</td>\n",
              "      <td>85.078891</td>\n",
              "      <td>76.861112</td>\n",
              "      <td>293.697478</td>\n",
              "      <td>66.364900</td>\n",
              "    </tr>\n",
              "    <tr>\n",
              "      <th>min</th>\n",
              "      <td>17.244588</td>\n",
              "      <td>5.267510</td>\n",
              "      <td>-282.347401</td>\n",
              "      <td>-266.940575</td>\n",
              "      <td>17.125208</td>\n",
              "      <td>-221.725947</td>\n",
              "    </tr>\n",
              "    <tr>\n",
              "      <th>25%</th>\n",
              "      <td>726.904945</td>\n",
              "      <td>766.334712</td>\n",
              "      <td>-235.373090</td>\n",
              "      <td>-215.935937</td>\n",
              "      <td>713.875432</td>\n",
              "      <td>-185.288294</td>\n",
              "    </tr>\n",
              "    <tr>\n",
              "      <th>50%</th>\n",
              "      <td>883.360526</td>\n",
              "      <td>909.741815</td>\n",
              "      <td>-206.565263</td>\n",
              "      <td>-193.416446</td>\n",
              "      <td>860.714559</td>\n",
              "      <td>-163.503547</td>\n",
              "    </tr>\n",
              "    <tr>\n",
              "      <th>75%</th>\n",
              "      <td>892.066715</td>\n",
              "      <td>924.274203</td>\n",
              "      <td>-160.378924</td>\n",
              "      <td>-150.737852</td>\n",
              "      <td>889.260536</td>\n",
              "      <td>-125.636225</td>\n",
              "    </tr>\n",
              "    <tr>\n",
              "      <th>max</th>\n",
              "      <td>916.505451</td>\n",
              "      <td>964.243638</td>\n",
              "      <td>4.993393</td>\n",
              "      <td>1.525198</td>\n",
              "      <td>935.195278</td>\n",
              "      <td>2.734271</td>\n",
              "    </tr>\n",
              "  </tbody>\n",
              "</table>\n",
              "</div>\n",
              "      <button class=\"colab-df-convert\" onclick=\"convertToInteractive('df-da2c71d8-9d14-4487-99ae-f8889a4fcae9')\"\n",
              "              title=\"Convert this dataframe to an interactive table.\"\n",
              "              style=\"display:none;\">\n",
              "        \n",
              "  <svg xmlns=\"http://www.w3.org/2000/svg\" height=\"24px\"viewBox=\"0 0 24 24\"\n",
              "       width=\"24px\">\n",
              "    <path d=\"M0 0h24v24H0V0z\" fill=\"none\"/>\n",
              "    <path d=\"M18.56 5.44l.94 2.06.94-2.06 2.06-.94-2.06-.94-.94-2.06-.94 2.06-2.06.94zm-11 1L8.5 8.5l.94-2.06 2.06-.94-2.06-.94L8.5 2.5l-.94 2.06-2.06.94zm10 10l.94 2.06.94-2.06 2.06-.94-2.06-.94-.94-2.06-.94 2.06-2.06.94z\"/><path d=\"M17.41 7.96l-1.37-1.37c-.4-.4-.92-.59-1.43-.59-.52 0-1.04.2-1.43.59L10.3 9.45l-7.72 7.72c-.78.78-.78 2.05 0 2.83L4 21.41c.39.39.9.59 1.41.59.51 0 1.02-.2 1.41-.59l7.78-7.78 2.81-2.81c.8-.78.8-2.07 0-2.86zM5.41 20L4 18.59l7.72-7.72 1.47 1.35L5.41 20z\"/>\n",
              "  </svg>\n",
              "      </button>\n",
              "      \n",
              "  <style>\n",
              "    .colab-df-container {\n",
              "      display:flex;\n",
              "      flex-wrap:wrap;\n",
              "      gap: 12px;\n",
              "    }\n",
              "\n",
              "    .colab-df-convert {\n",
              "      background-color: #E8F0FE;\n",
              "      border: none;\n",
              "      border-radius: 50%;\n",
              "      cursor: pointer;\n",
              "      display: none;\n",
              "      fill: #1967D2;\n",
              "      height: 32px;\n",
              "      padding: 0 0 0 0;\n",
              "      width: 32px;\n",
              "    }\n",
              "\n",
              "    .colab-df-convert:hover {\n",
              "      background-color: #E2EBFA;\n",
              "      box-shadow: 0px 1px 2px rgba(60, 64, 67, 0.3), 0px 1px 3px 1px rgba(60, 64, 67, 0.15);\n",
              "      fill: #174EA6;\n",
              "    }\n",
              "\n",
              "    [theme=dark] .colab-df-convert {\n",
              "      background-color: #3B4455;\n",
              "      fill: #D2E3FC;\n",
              "    }\n",
              "\n",
              "    [theme=dark] .colab-df-convert:hover {\n",
              "      background-color: #434B5C;\n",
              "      box-shadow: 0px 1px 3px 1px rgba(0, 0, 0, 0.15);\n",
              "      filter: drop-shadow(0px 1px 2px rgba(0, 0, 0, 0.3));\n",
              "      fill: #FFFFFF;\n",
              "    }\n",
              "  </style>\n",
              "\n",
              "      <script>\n",
              "        const buttonEl =\n",
              "          document.querySelector('#df-da2c71d8-9d14-4487-99ae-f8889a4fcae9 button.colab-df-convert');\n",
              "        buttonEl.style.display =\n",
              "          google.colab.kernel.accessAllowed ? 'block' : 'none';\n",
              "\n",
              "        async function convertToInteractive(key) {\n",
              "          const element = document.querySelector('#df-da2c71d8-9d14-4487-99ae-f8889a4fcae9');\n",
              "          const dataTable =\n",
              "            await google.colab.kernel.invokeFunction('convertToInteractive',\n",
              "                                                     [key], {});\n",
              "          if (!dataTable) return;\n",
              "\n",
              "          const docLinkHtml = 'Like what you see? Visit the ' +\n",
              "            '<a target=\"_blank\" href=https://colab.research.google.com/notebooks/data_table.ipynb>data table notebook</a>'\n",
              "            + ' to learn more about interactive tables.';\n",
              "          element.innerHTML = '';\n",
              "          dataTable['output_type'] = 'display_data';\n",
              "          await google.colab.output.renderOutput(dataTable, element);\n",
              "          const docLink = document.createElement('div');\n",
              "          docLink.innerHTML = docLinkHtml;\n",
              "          element.appendChild(docLink);\n",
              "        }\n",
              "      </script>\n",
              "    </div>\n",
              "  </div>\n",
              "  "
            ]
          },
          "metadata": {},
          "execution_count": 12
        }
      ]
    },
    {
      "cell_type": "code",
      "source": [
        "# using standard scaler\n",
        "scaler = StandardScaler()\n",
        "df_scaled = scaler.fit_transform(df)"
      ],
      "metadata": {
        "id": "GukyGsa-3kOF"
      },
      "execution_count": null,
      "outputs": []
    },
    {
      "cell_type": "code",
      "source": [
        "split = int(0.8 * len(df_scaled))"
      ],
      "metadata": {
        "id": "fipuhZ0160ha"
      },
      "execution_count": null,
      "outputs": []
    },
    {
      "cell_type": "code",
      "source": [
        "train_data, test_data = df_scaled[:split], df_scaled[split:]"
      ],
      "metadata": {
        "id": "SKZPIDoJ61aZ"
      },
      "execution_count": null,
      "outputs": []
    },
    {
      "cell_type": "code",
      "source": [
        "train_data.shape, test_data.shape"
      ],
      "metadata": {
        "colab": {
          "base_uri": "https://localhost:8080/"
        },
        "id": "oIwDTxlb6_Kf",
        "outputId": "94eb7d79-011c-496d-ec08-a3c31a5b8abd"
      },
      "execution_count": null,
      "outputs": [
        {
          "output_type": "execute_result",
          "data": {
            "text/plain": [
              "((151, 6), (38, 6))"
            ]
          },
          "metadata": {},
          "execution_count": 184
        }
      ]
    },
    {
      "cell_type": "code",
      "source": [
        "n_steps = 10 # Number of time steps to consider\n",
        "n_features = df_scaled.shape[1] ## Number of features in the dataset"
      ],
      "metadata": {
        "id": "mI--cObI811Z"
      },
      "execution_count": null,
      "outputs": []
    },
    {
      "cell_type": "code",
      "source": [
        "# preparation for training data\n",
        "X_train, y_train = [], []\n",
        "for i in range(n_steps, len(train_data)):\n",
        "    X_train.append(train_data[i - n_steps:i])\n",
        "    y_train.append(train_data[i])\n",
        "\n",
        "X_train, y_train = np.array(X_train), np.array(y_train)\n",
        "\n",
        "# # preparation for testing data\n",
        "X_test, y_test = [], []\n",
        "for i in range(n_steps, len(test_data)):\n",
        "    X_test.append(test_data[i - n_steps:i])\n",
        "    y_test.append(test_data[i])\n",
        "\n",
        "X_test, y_test = np.array(X_test), np.array(y_test)"
      ],
      "metadata": {
        "id": "DjY8lDaG8ndC"
      },
      "execution_count": null,
      "outputs": []
    },
    {
      "cell_type": "code",
      "source": [
        "X_train.shape , X_test.shape"
      ],
      "metadata": {
        "colab": {
          "base_uri": "https://localhost:8080/"
        },
        "id": "xoW8yEW2DfsM",
        "outputId": "71ad86b4-6c7b-4bf9-e015-cd25754bd504"
      },
      "execution_count": null,
      "outputs": [
        {
          "output_type": "execute_result",
          "data": {
            "text/plain": [
              "((141, 10, 6), (28, 10, 6))"
            ]
          },
          "metadata": {},
          "execution_count": 188
        }
      ]
    },
    {
      "cell_type": "code",
      "source": [
        "model = Sequential()\n",
        "model.add(LSTM(64, activation='relu', input_shape=(n_steps, n_features)))\n",
        "model.add(Dropout(0.5))\n",
        "model.add(Dense(n_features))\n",
        "model.compile(optimizer='adam', loss='mse')"
      ],
      "metadata": {
        "colab": {
          "base_uri": "https://localhost:8080/"
        },
        "id": "BT_reLIKIc4y",
        "outputId": "17ca43c0-3501-4e65-a434-d0cf1d18232b"
      },
      "execution_count": null,
      "outputs": [
        {
          "output_type": "stream",
          "name": "stderr",
          "text": [
            "WARNING:tensorflow:Layer lstm_11 will not use cuDNN kernels since it doesn't meet the criteria. It will use a generic GPU kernel as fallback when running on GPU.\n"
          ]
        }
      ]
    },
    {
      "cell_type": "code",
      "source": [
        "history = model.fit(X_train, y_train, epochs = 50, batch_size=32, verbose=1,\n",
        "                    validation_data=(X_test, y_test),\n",
        "                    callbacks=[keras.callbacks.EarlyStopping(monitor='val_loss', patience=3, mode='min')])"
      ],
      "metadata": {
        "colab": {
          "base_uri": "https://localhost:8080/"
        },
        "id": "g2rgXbcXHKBK",
        "outputId": "f5ef495c-5e6a-4d44-cbd1-001c268345c4"
      },
      "execution_count": null,
      "outputs": [
        {
          "output_type": "stream",
          "name": "stdout",
          "text": [
            "Epoch 1/50\n",
            "5/5 [==============================] - 2s 67ms/step - loss: 0.9312 - val_loss: 1.2625\n",
            "Epoch 2/50\n",
            "5/5 [==============================] - 0s 22ms/step - loss: 0.9071 - val_loss: 1.2053\n",
            "Epoch 3/50\n",
            "5/5 [==============================] - 0s 21ms/step - loss: 0.8729 - val_loss: 1.1680\n",
            "Epoch 4/50\n",
            "5/5 [==============================] - 0s 25ms/step - loss: 0.8470 - val_loss: 1.1300\n",
            "Epoch 5/50\n",
            "5/5 [==============================] - 0s 22ms/step - loss: 0.8328 - val_loss: 1.0924\n",
            "Epoch 6/50\n",
            "5/5 [==============================] - 0s 23ms/step - loss: 0.8344 - val_loss: 1.0516\n",
            "Epoch 7/50\n",
            "5/5 [==============================] - 0s 22ms/step - loss: 0.8297 - val_loss: 1.0144\n",
            "Epoch 8/50\n",
            "5/5 [==============================] - 0s 20ms/step - loss: 0.8148 - val_loss: 0.9739\n",
            "Epoch 9/50\n",
            "5/5 [==============================] - 0s 21ms/step - loss: 0.7694 - val_loss: 0.9246\n",
            "Epoch 10/50\n",
            "5/5 [==============================] - 0s 26ms/step - loss: 0.7367 - val_loss: 0.8708\n",
            "Epoch 11/50\n",
            "5/5 [==============================] - 0s 26ms/step - loss: 0.7533 - val_loss: 0.8074\n",
            "Epoch 12/50\n",
            "5/5 [==============================] - 0s 19ms/step - loss: 0.7504 - val_loss: 0.7529\n",
            "Epoch 13/50\n",
            "5/5 [==============================] - 0s 19ms/step - loss: 0.7076 - val_loss: 0.7016\n",
            "Epoch 14/50\n",
            "5/5 [==============================] - 0s 21ms/step - loss: 0.7359 - val_loss: 0.6544\n",
            "Epoch 15/50\n",
            "5/5 [==============================] - 0s 21ms/step - loss: 0.7210 - val_loss: 0.6378\n",
            "Epoch 16/50\n",
            "5/5 [==============================] - 0s 22ms/step - loss: 0.6613 - val_loss: 0.6248\n",
            "Epoch 17/50\n",
            "5/5 [==============================] - 0s 24ms/step - loss: 0.6658 - val_loss: 0.6241\n",
            "Epoch 18/50\n",
            "5/5 [==============================] - 0s 24ms/step - loss: 0.6863 - val_loss: 0.6130\n",
            "Epoch 19/50\n",
            "5/5 [==============================] - 0s 22ms/step - loss: 0.7060 - val_loss: 0.5987\n",
            "Epoch 20/50\n",
            "5/5 [==============================] - 0s 22ms/step - loss: 0.6490 - val_loss: 0.5851\n",
            "Epoch 21/50\n",
            "5/5 [==============================] - 0s 20ms/step - loss: 0.7300 - val_loss: 0.5815\n",
            "Epoch 22/50\n",
            "5/5 [==============================] - 0s 18ms/step - loss: 0.7138 - val_loss: 0.6005\n",
            "Epoch 23/50\n",
            "5/5 [==============================] - 0s 22ms/step - loss: 0.6251 - val_loss: 0.5956\n",
            "Epoch 24/50\n",
            "5/5 [==============================] - 0s 23ms/step - loss: 0.6131 - val_loss: 0.5938\n"
          ]
        }
      ]
    },
    {
      "cell_type": "code",
      "source": [
        "plt.plot(history.history['loss'], label='Training loss')\n",
        "plt.plot(history.history['val_loss'], label='Validation loss')\n",
        "plt.legend();"
      ],
      "metadata": {
        "colab": {
          "base_uri": "https://localhost:8080/",
          "height": 430
        },
        "id": "_UJuJ2LeNCIi",
        "outputId": "d681b63e-516c-49ee-d3bc-038071174ede"
      },
      "execution_count": null,
      "outputs": [
        {
          "output_type": "display_data",
          "data": {
            "text/plain": [
              "<Figure size 640x480 with 1 Axes>"
            ],
            "image/png": "[encoded data removed]"
          },
          "metadata": {}
        }
      ]
    },
    {
      "cell_type": "code",
      "source": [
        "y_pred = model.predict(X_test)\n",
        "y_pred.shape"
      ],
      "metadata": {
        "colab": {
          "base_uri": "https://localhost:8080/"
        },
        "id": "hg7mIFVrN-lU",
        "outputId": "616c4fe7-103f-4714-bc3e-6874e22d2c92"
      },
      "execution_count": null,
      "outputs": [
        {
          "output_type": "stream",
          "name": "stdout",
          "text": [
            "1/1 [==============================] - 0s 141ms/step\n"
          ]
        },
        {
          "output_type": "execute_result",
          "data": {
            "text/plain": [
              "(31, 6)"
            ]
          },
          "metadata": {},
          "execution_count": 135
        }
      ]
    },
    {
      "cell_type": "code",
      "source": [
        "mse = np.mean(np.square(y_pred - y_test), axis=1)\n",
        "mean_mse = np.mean(mse)\n",
        "std_mse = np.std(mse)\n",
        "threshold = mean_mse + 2 * std_mse\n",
        "anomalies = mse > threshold\n",
        "np.where(anomalies)"
      ],
      "metadata": {
        "colab": {
          "base_uri": "https://localhost:8080/"
        },
        "id": "xlmTtWI9QiiC",
        "outputId": "4d7ebbad-865c-4240-ab07-91c98f31a6d6"
      },
      "execution_count": null,
      "outputs": [
        {
          "output_type": "execute_result",
          "data": {
            "text/plain": [
              "(array([11]),)"
            ]
          },
          "metadata": {},
          "execution_count": 165
        }
      ]
    }
  ]
}